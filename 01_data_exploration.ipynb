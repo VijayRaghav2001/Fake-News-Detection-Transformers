{
 "cells": [
  {
   "cell_type": "markdown",
   "id": "1918e425",
   "metadata": {},
   "source": [
    "# Data Exploration Notebook"
   ]
  },
  {
   "cell_type": "code",
   "execution_count": null,
   "id": "6e8bfec6",
   "metadata": {},
   "outputs": [],
   "source": [
    "import pandas as pd\n",
    "import matplotlib.pyplot as plt\n",
    "import seaborn as sns\n",
    "from wordcloud import WordCloud\n",
    "from src.config import load_config\n",
    "from src.data_loader import DataLoader\n",
    "\n",
    "# Load configuration\n",
    "config = load_config()\n",
    "\n",
    "# Load data\n",
    "data_loader = DataLoader(config)\n",
    "df = data_loader.load_data(config['data']['train_path'])\n"
   ]
  },
  {
   "cell_type": "code",
   "execution_count": null,
   "id": "53bfa0fc",
   "metadata": {},
   "outputs": [],
   "source": [
    "# Basic dataset information\n",
    "print(f\"Dataset shape: {df.shape}\")\n",
    "print(f\"Columns: {df.columns.tolist()}\")\n",
    "print(f\"Label distribution:\\n{df[config['data']['label_column']].value_counts()}\")\n"
   ]
  },
  {
   "cell_type": "code",
   "execution_count": null,
   "id": "1a345513",
   "metadata": {},
   "outputs": [],
   "source": [
    "# Visualize label distribution\n",
    "plt.figure(figsize=(8, 6))\n",
    "sns.countplot(x=config['data']['label_column'], data=df)\n",
    "plt.title('Label Distribution')\n",
    "plt.show()\n"
   ]
  },
  {
   "cell_type": "code",
   "execution_count": null,
   "id": "1b00df35",
   "metadata": {},
   "outputs": [],
   "source": [
    "# Text length analysis\n",
    "df['text_length'] = df[config['data']['text_column']].apply(len)\n",
    "plt.figure(figsize=(10, 6))\n",
    "sns.histplot(data=df, x='text_length', hue=config['data']['label_column'], bins=50)\n",
    "plt.title('Text Length Distribution by Label')\n",
    "plt.show()\n"
   ]
  },
  {
   "cell_type": "code",
   "execution_count": null,
   "id": "1e648cf1",
   "metadata": {},
   "outputs": [],
   "source": [
    "# Word clouds for each class\n",
    "for label in df[config['data']['label_column']].unique():\n",
    "    text = ' '.join(df[df[config['data']['label_column']] == label][config['data']['text_column']])\n",
    "    wordcloud = WordCloud(width=800, height=400).generate(text)\n",
    "    plt.figure(figsize=(10, 5))\n",
    "    plt.imshow(wordcloud, interpolation='bilinear')\n",
    "    plt.title(f'Word Cloud for Class {label}')\n",
    "    plt.axis('off')\n",
    "    plt.show()\n"
   ]
  }
 ],
 "metadata": {},
 "nbformat": 4,
 "nbformat_minor": 5
}
